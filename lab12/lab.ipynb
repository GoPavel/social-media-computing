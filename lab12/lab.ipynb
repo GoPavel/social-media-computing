{
 "cells": [
  {
   "cell_type": "markdown",
   "metadata": {},
   "source": [
    "# Sentiment Analysis of Microblog Data Streams\n",
    "\n",
    "## Outline:\n",
    "\n",
    "- preprocessing\n",
    "    - [X] reduce whitespace\n",
    "    - [X] covnert to lower case\n",
    "    - [X] remove punctuation\n",
    "    - [X] remove stop word\n",
    "    - [X] remove number\n",
    "    - [X] expanding abbreviations (by normalization)\n",
    "    - [X] replace smiles\n",
    "    - [X] remove too small tweets\n",
    "    - [X] reduce repeated latter (looool $\\rightarrow$ lol)\n",
    "- classification\n",
    "    - [X] predict organization\n",
    "    - [X] predict 3-way sentiment\n",
    "    - [X] Try to use temporal data\n",
    "    - [X] 5-way sentiment prediction"
   ]
  },
  {
   "cell_type": "markdown",
   "metadata": {},
   "source": [
    "## Preprocessing"
   ]
  },
  {
   "cell_type": "code",
   "execution_count": 1,
   "metadata": {},
   "outputs": [],
   "source": [
    "import pandas as pd\n",
    "import numpy as np\n",
    "\n",
    "pd.options.mode.chained_assignment = None\n",
    "\n",
    "df = pd.read_csv('data/Train.csv')"
   ]
  },
  {
   "cell_type": "code",
   "execution_count": 2,
   "metadata": {},
   "outputs": [],
   "source": [
    "def load_vocab_norm(path: str):\n",
    "    m = {}\n",
    "    with open(path) as f:\n",
    "        for l in f:\n",
    "            a, b = l.split()\n",
    "            m[a] = b\n",
    "    return m\n",
    "vocabs_norm = [load_vocab_norm('emnlp_dict.txt')]"
   ]
  },
  {
   "cell_type": "code",
   "execution_count": 3,
   "metadata": {},
   "outputs": [],
   "source": [
    "import typing\n",
    "import re\n",
    "import unicodedata\n",
    "\n",
    "from nltk.corpus import stopwords\n",
    "from langdetect import detect\n",
    "from langdetect.lang_detect_exception import LangDetectException\n",
    "\n",
    "from static_vocabularies import contraction_mapping, emoticons\n",
    "\n",
    "stopwords_vocs = {\n",
    "    'russian': stopwords.words('russian'),\n",
    "    'english': stopwords.words('english'),\n",
    "    'spanish': stopwords.words('spanish')\n",
    "}\n",
    "# add spain, italia\n",
    "all_stopwords = {w for words in stopwords_vocs.values()\n",
    "                   for w in words}\n",
    "\n",
    "# irrelevant_patterns\n",
    "regexes = {\n",
    "    'URL': r\"\"\"(?xi)\\b(?:(?:https?|ftp|file):\\/\\/|www\\.|ftp\\.|pic\\.|twitter\\.|facebook\\.)(?:\\([-A-Z0-9+&@#\\/%=~_|$?!:;,.]*\\)|[-A-Z0-9+&@#\\/%=~_|$?!:;,.])*(?:\\([-A-Z0-9+&@#\\/%=~_|$?!:,.]*\\)|[A-Z0-9+&@#\\/%=~_|$])\"\"\",\n",
    "    'EMOJI': u'([\\U0001F1E0-\\U0001F1FF])|([\\U0001F300-\\U0001F5FF])|([\\U0001F600-\\U0001F64F])|([\\U0001F680-\\U0001F6FF])|([\\U0001F700-\\U0001F77F])|([\\U0001F800-\\U0001F8FF])|([\\U0001F900-\\U0001F9FF])|([\\U0001FA00-\\U0001FA6F])|([\\U0001FA70-\\U0001FAFF])|([\\U00002702-\\U000027B0])|([\\U00002600-\\U000027BF])|([\\U0001f300-\\U0001f64F])|([\\U0001f680-\\U0001f6FF])',\n",
    "    'HASHTAG': r\"\\#\\b[\\w\\-\\_]+\\b\",\n",
    "    'EMAIL': r\"(?:^|(?<=[^\\w@.)]))(?:[\\w+-](?:\\.(?!\\.))?)*?[\\w+-]@(?:\\w-?)*?\\w+(?:\\.(?:[a-z]{2,})){1,3}(?:$|(?=\\b))\",\n",
    "    'MENTION': r\"@[A-Za-z0-9]+\",\n",
    "    'CASHTAG': r\"(?:[$\\u20ac\\u00a3\\u00a2]\\d+(?:[\\\\.,']\\d+)?(?:[MmKkBb](?:n|(?:il(?:lion)?))?)?)|(?:\\d+(?:[\\\\.,']\\\\d+)?[$\\u20ac\\u00a3\\u00a2])\",\n",
    "    'DATE': r\"(?:(?:(?:(?:(?<!:)\\b\\'?\\d{1,4},? ?)?\\b(?:[Jj]an(?:uary)?|[Ff]eb(?:ruary)?|[Mm]ar(?:ch)?|[Aa]pr(?:il)?|May|[Jj]un(?:e)?|[Jj]ul(?:y)?|[Aa]ug(?:ust)?|[Ss]ept?(?:ember)?|[Oo]ct(?:ober)?|[Nn]ov(?:ember)?|[Dd]ec(?:ember)?)\\b(?:(?:,? ?\\'?)?\\d{1,4}(?:st|nd|rd|n?th)?\\b(?:[,\\\\/]? ?\\'?\\d{2,4}[a-zA-Z]*)?(?: ?- ?\\d{2,4}[a-zA-Z]*)?(?!:\\d{1,4})\\b))|(?:(?:(?<!:)\\b\\\\'?\\d{1,4},? ?)\\b(?:[Jj]an(?:uary)?|[Ff]eb(?:ruary)?|[Mm]ar(?:ch)?|[Aa]pr(?:il)?|May|[Jj]un(?:e)?|[Jj]ul(?:y)?|[Aa]ug(?:ust)?|[Ss]ept?(?:ember)?|[Oo]ct(?:ober)?|[Nn]ov(?:ember)?|[Dd]ec(?:ember)?)\\b(?:(?:,? ?\\'?)?\\d{1,4}(?:st|nd|rd|n?th)?\\b(?:[,\\\\/]? ?\\'?\\d{2,4}[a-zA-Z]*)?(?: ?- ?\\d{2,4}[a-zA-Z]*)?(?!:\\d{1,4})\\b)?))|(?:\\b(?<!\\d\\\\.)(?:(?:(?:[0123]?[0-9][\\\\.\\\\-\\\\/])?[0123]?[0-9][\\\\.\\\\-\\\\/][12][0-9]{3})|(?:[0123]?[0-9][\\\\.\\\\-\\\\/][0123]?[0-9][\\\\.\\\\-\\\\/][12]?[0-9]{2,3}))(?!\\.\\d)\\b))\",\n",
    "    'TIME': r'(?:(?:\\d+)?\\\\.?\\d+(?:AM|PM|am|pm|a\\\\.m\\\\.|p\\\\.m\\\\.))|(?:(?:[0-2]?[0-9]|[2][0-3]):(?:[0-5][0-9])(?::(?:[0-5][0-9]))?(?: ?(?:AM|PM|am|pm|a\\\\.m\\\\.|p\\\\.m\\\\.))?)',\n",
    "    #'EMPHASIS': r\"(?:\\*\\b\\w+\\b\\*)\",\n",
    "    #'ELONG': r\"\\b[A-Za-z]*([a-zA-Z])\\1\\1[A-Za-z]*\\b\"\n",
    "    'NUMBERS': r\"[0-9]+\"\n",
    "}\n",
    "regexes = {k:re.compile(v) for k, v in regexes.items()}\n",
    "\n",
    "target_word = {'apple', 'microsoft', 'google', 'twitter'}\n",
    "\n",
    "def clean(msg: str) -> typing.List[str]:\n",
    "    msg = ' ' + msg\n",
    "    \n",
    "    # normalize unicode\n",
    "    msg = unicodedata.normalize('NFKD', msg)\n",
    "    \n",
    "    msg = regexes['URL'].sub(\" \", msg)\n",
    "#     try:\n",
    "#         lang = detect(msg)\n",
    "#     except LangDetectException:\n",
    "#         lang = 'en'\n",
    "#     if lang == 'en':\n",
    "#         msg = msg.encode('ascii', errors='ignore')\\\n",
    "#                  .decode('utf8', errors='ignore')\n",
    "\n",
    "    # expand contraction\n",
    "    for k, v in contraction_mapping.items():\n",
    "        msg = msg.replace(k, v)\n",
    "    \n",
    "    # replace emoticons\n",
    "    for k, v in emoticons.items():\n",
    "        if k in msg:\n",
    "            msg = msg.replace(k, v)\n",
    "    \n",
    "    # unify latter case\n",
    "    msg = msg.lower()\n",
    "    \n",
    "    # save target word in hashtag or mention\n",
    "    for w in target_word:\n",
    "        msg = re.sub(f'(#|@){w}\\\\b', w, msg)\n",
    "    \n",
    "    # remove irrelevant\n",
    "    for pn in ['EMOJI', 'HASHTAG', 'MENTION', 'CASHTAG', 'DATE', 'TIME', 'NUMBERS']:\n",
    "        msg = regexes[pn].sub(\" \", msg)\n",
    "    \n",
    "    # reduce repeated latter\n",
    "    msg = re.sub(r\"([a-z])\\1(\\1)+\", r'\\1', msg)\n",
    "    \n",
    "    # remove punctuation\n",
    "    msg = re.sub(r\"[\\[\\]\\{\\}/\\\\\\(\\)\\\"'`\\-_:;.,!?*”“»@%><+]+\", \" \", msg)\n",
    "    \n",
    "    # split to word\n",
    "    msg = msg.split()\n",
    "    \n",
    "    # language normalization\n",
    "    for norm in vocabs_norm:\n",
    "        msg = map(lambda w: norm.get(w, w), msg)\n",
    "    msg = list(msg)\n",
    "    \n",
    "    # remove stopwords\n",
    "    msg = [w for w in msg if w not in all_stopwords]\n",
    "    \n",
    "    # remove short words\n",
    "#     msg = [w for w in msg if len(w) > 2]\n",
    "    \n",
    "    msg = ' '.join(msg)\n",
    "    return msg"
   ]
  },
  {
   "cell_type": "markdown",
   "metadata": {},
   "source": [
    "## Learning for organization"
   ]
  },
  {
   "cell_type": "code",
   "execution_count": 4,
   "metadata": {},
   "outputs": [],
   "source": [
    "from sklearn.feature_extraction import text\n",
    "from sklearn.pipeline import FeatureUnion,Pipeline\n",
    "from sklearn.compose import ColumnTransformer"
   ]
  },
  {
   "cell_type": "code",
   "execution_count": 5,
   "metadata": {},
   "outputs": [],
   "source": [
    "#CountVectorizer = text.CountVectorizer()\n",
    "#TfidfVectorizer = text.TfidfVectorizer()\n",
    "#HashVectorizer = text.HashingVectorizer()"
   ]
  },
  {
   "cell_type": "code",
   "execution_count": 6,
   "metadata": {},
   "outputs": [],
   "source": [
    "word_vectorizer = text.TfidfVectorizer(\n",
    "    analyzer='word', ngram_range=(1, 4),\n",
    "    min_df=2, use_idf=True, sublinear_tf=True)\n",
    "char_vectorizer = text.TfidfVectorizer(\n",
    "          analyzer='char', ngram_range=(3, 5),\n",
    "          min_df=2, use_idf=True, sublinear_tf=True)\n",
    "ngrams_vectorizer = Pipeline([\n",
    "    ('feats', \n",
    "     FeatureUnion([('word_ngram', word_vectorizer),\n",
    "                    ('char_ngram', char_vectorizer),\n",
    "                  ])),])"
   ]
  },
  {
   "cell_type": "code",
   "execution_count": 7,
   "metadata": {},
   "outputs": [],
   "source": [
    "df['cleaned'] = df['TweetText'].apply(clean)\n",
    "df_filtered = df.loc[df['cleaned'].apply(len) > 0]\n",
    "# for l in df_filtered['cleaned'][200:300]:\n",
    "#     print(l)"
   ]
  },
  {
   "cell_type": "code",
   "execution_count": 8,
   "metadata": {},
   "outputs": [],
   "source": [
    "from sklearn.decomposition import TruncatedSVD\n",
    "from sklearn.preprocessing import LabelEncoder, FunctionTransformer, Normalizer, OneHotEncoder\n",
    "from sklearn.svm import LinearSVC, SVC\n",
    "from sklearn.model_selection import train_test_split \n",
    "from sklearn.metrics import classification_report\n",
    "\n",
    "\n",
    "# encoder=LabelEncoder()\n",
    "# label=encoder.fit_transform(df['Topic'])"
   ]
  },
  {
   "cell_type": "code",
   "execution_count": 9,
   "metadata": {},
   "outputs": [
    {
     "data": {
      "text/plain": [
       "LinearSVC()"
      ]
     },
     "execution_count": 9,
     "metadata": {},
     "output_type": "execute_result"
    }
   ],
   "source": [
    "feature=ngrams_vectorizer.fit_transform(df_filtered['cleaned'].values)\n",
    "\n",
    "clf_org=LinearSVC()\n",
    "# x_train, x_test, y_train, y_test = train_test_split(feature, df_filtered['Topic'], test_size=0.2, stratify=df_filtered['Topic'])\n",
    "clf_org.fit(feature, df_filtered['Topic'])"
   ]
  },
  {
   "cell_type": "markdown",
   "metadata": {},
   "source": [
    "### Test"
   ]
  },
  {
   "cell_type": "code",
   "execution_count": 10,
   "metadata": {},
   "outputs": [
    {
     "name": "stdout",
     "output_type": "stream",
     "text": [
      "              precision    recall  f1-score   support\n",
      "\n",
      "       apple       0.95      0.96      0.95        98\n",
      "      google       0.84      0.77      0.80        79\n",
      "   microsoft       0.90      0.73      0.81        78\n",
      "     twitter       0.72      0.89      0.79        87\n",
      "\n",
      "    accuracy                           0.85       342\n",
      "   macro avg       0.85      0.84      0.84       342\n",
      "weighted avg       0.85      0.85      0.85       342\n",
      "\n"
     ]
    }
   ],
   "source": [
    "test_df = pd.read_csv('data/Test.csv')\n",
    "test_df['cleaned'] = test_df['TweetText'].apply(clean)\n",
    "test_feature = ngrams_vectorizer.transform(test_df['cleaned'])\n",
    "print(classification_report(test_df['Topic'], clf_org.predict(test_feature)))"
   ]
  },
  {
   "cell_type": "markdown",
   "metadata": {},
   "source": [
    "##  Learning for 3-way sentiment"
   ]
  },
  {
   "cell_type": "code",
   "execution_count": 11,
   "metadata": {},
   "outputs": [
    {
     "data": {
      "text/plain": [
       "LinearSVC()"
      ]
     },
     "execution_count": 11,
     "metadata": {},
     "output_type": "execute_result"
    }
   ],
   "source": [
    "org_encoder = LabelEncoder()\n",
    "org_encoder.fit(df['Topic'])\n",
    "\n",
    "sentiment_feature = FeatureUnion(\n",
    "    [('text', ngrams_vectorizer), \n",
    "     ('org', Pipeline([\n",
    "        ('vect', ngrams_vectorizer),\n",
    "        ('clf', FunctionTransformer(clf_org.predict)),\n",
    "        ('encode', org_encoder),\n",
    "        ('tranp', FunctionTransformer(lambda r: np.asmatrix(r).transpose())),\n",
    "        # ('norm', Normalizer())\n",
    "      ]))\n",
    "    ])\n",
    "\n",
    "clf_sentiment=LinearSVC()\n",
    "clf_sentiment.fit(sentiment_feature.transform(df_filtered['cleaned']), df_filtered['Sentiment'])"
   ]
  },
  {
   "cell_type": "markdown",
   "metadata": {},
   "source": [
    "### Test"
   ]
  },
  {
   "cell_type": "code",
   "execution_count": 12,
   "metadata": {},
   "outputs": [
    {
     "name": "stdout",
     "output_type": "stream",
     "text": [
      "              precision    recall  f1-score   support\n",
      "\n",
      "  irrelevant       0.74      0.93      0.82       105\n",
      "    negative       0.70      0.47      0.56        49\n",
      "     neutral       0.79      0.74      0.76       156\n",
      "    positive       0.53      0.50      0.52        32\n",
      "\n",
      "    accuracy                           0.74       342\n",
      "   macro avg       0.69      0.66      0.67       342\n",
      "weighted avg       0.74      0.74      0.73       342\n",
      "\n"
     ]
    }
   ],
   "source": [
    "test_sentiment_feature = sentiment_feature.transform(test_df['cleaned'])\n",
    "print(classification_report(test_df['Sentiment'], clf_sentiment.predict(test_sentiment_feature)))"
   ]
  },
  {
   "cell_type": "markdown",
   "metadata": {},
   "source": [
    "### Add temporal feature"
   ]
  },
  {
   "cell_type": "code",
   "execution_count": 13,
   "metadata": {},
   "outputs": [
    {
     "name": "stderr",
     "output_type": "stream",
     "text": [
      "/home/gopavel/.cache/pypoetry/virtualenvs/social-media-computing-zp_zk-1p-py3.7/lib64/python3.7/site-packages/sklearn/compose/_column_transformer.py:440: FutureWarning: Given feature/column names or counts do not match the ones for the data given during fit. This will fail from v0.24.\n",
      "  FutureWarning)\n"
     ]
    },
    {
     "data": {
      "text/plain": [
       "LinearSVC()"
      ]
     },
     "execution_count": 13,
     "metadata": {},
     "output_type": "execute_result"
    }
   ],
   "source": [
    "from scipy.sparse import hstack\n",
    "\n",
    "df_filtered['weekday'] = df_filtered['TweetDate'].apply(lambda s: s.split()[0])\n",
    "df_filtered['month'] = df_filtered['TweetDate'].apply(lambda s: s.split()[1])\n",
    "\n",
    "org_encoder = LabelEncoder()\n",
    "org_encoder.fit(df['Topic'])\n",
    "\n",
    "time_feature = ColumnTransformer([\n",
    "    ('weekday', OneHotEncoder(), ['weekday']),\n",
    "    ('month', OneHotEncoder(), ['month']),\n",
    "])\n",
    "time_feature.fit(df_filtered[['weekday', 'month']])\n",
    "clf_sentiment_with_time=LinearSVC()\n",
    "clf_sentiment_with_time.fit(hstack((sentiment_feature.transform(df_filtered['cleaned']), \n",
    "                                    time_feature.transform(df_filtered))), df_filtered['Sentiment'])"
   ]
  },
  {
   "cell_type": "code",
   "execution_count": 14,
   "metadata": {},
   "outputs": [
    {
     "name": "stdout",
     "output_type": "stream",
     "text": [
      "              precision    recall  f1-score   support\n",
      "\n",
      "  irrelevant       0.73      0.93      0.82       105\n",
      "    negative       0.70      0.53      0.60        49\n",
      "     neutral       0.81      0.72      0.76       156\n",
      "    positive       0.52      0.50      0.51        32\n",
      "\n",
      "    accuracy                           0.74       342\n",
      "   macro avg       0.69      0.67      0.67       342\n",
      "weighted avg       0.74      0.74      0.73       342\n",
      "\n"
     ]
    },
    {
     "name": "stderr",
     "output_type": "stream",
     "text": [
      "/home/gopavel/.cache/pypoetry/virtualenvs/social-media-computing-zp_zk-1p-py3.7/lib64/python3.7/site-packages/sklearn/compose/_column_transformer.py:440: FutureWarning: Given feature/column names or counts do not match the ones for the data given during fit. This will fail from v0.24.\n",
      "  FutureWarning)\n"
     ]
    }
   ],
   "source": [
    "test_df['weekday'] = test_df['TweetDate'].apply(lambda s: s.split()[0])\n",
    "test_df['month'] = test_df['TweetDate'].apply(lambda s: s.split()[1])\n",
    "\n",
    "a = sentiment_feature.transform(test_df['cleaned'])\n",
    "b = time_feature.transform(test_df)\n",
    "print(classification_report(test_df['Sentiment'], clf_sentiment_with_time.predict(hstack((a, b)))))"
   ]
  },
  {
   "cell_type": "markdown",
   "metadata": {},
   "source": [
    "## 5-way sentiment"
   ]
  },
  {
   "cell_type": "code",
   "execution_count": 15,
   "metadata": {},
   "outputs": [
    {
     "name": "stdout",
     "output_type": "stream",
     "text": [
      "              precision    recall  f1-score   support\n",
      "\n",
      "  irrelevant       0.72      0.92      0.81       105\n",
      "    negative       0.66      0.47      0.55        49\n",
      "     neutral       0.77      0.72      0.75       156\n",
      "    positive       0.56      0.47      0.51        32\n",
      "\n",
      "    accuracy                           0.73       342\n",
      "   macro avg       0.68      0.65      0.65       342\n",
      "weighted avg       0.72      0.73      0.72       342\n",
      "\n",
      "0.1607128775012604\n"
     ]
    }
   ],
   "source": [
    "from sklearn.linear_model import RidgeClassifier, Ridge\n",
    "from sklearn.metrics import mean_squared_error\n",
    "\n",
    "clf_sentiment5=RidgeClassifier()\n",
    "clf_sentiment5.fit(sentiment_feature.transform(df_filtered['cleaned']), df_filtered['Sentiment'])\n",
    "\n",
    "print(classification_report(test_df['Sentiment'], clf_sentiment5.predict(test_sentiment_feature)))\n",
    "\n",
    "d = {'positive': +1, 'neutral': 0, 'negative': -1, 'irrelevant': 0}\n",
    "df_filtered['sent_score'] = df_filtered['Sentiment'].apply(lambda s: d[s])\n",
    "clf = Ridge()\n",
    "clf.fit(sentiment_feature.transform(df_filtered['cleaned']), df_filtered['sent_score'])\n",
    "\n",
    "test_df['sent_score'] = test_df['Sentiment'].apply(lambda s: d[s])\n",
    "print(mean_squared_error(test_df['sent_score'], clf.predict(test_sentiment_feature)))"
   ]
  },
  {
   "cell_type": "code",
   "execution_count": 16,
   "metadata": {},
   "outputs": [],
   "source": [
    "def float_to_catetory(v: float) -> int:\n",
    "    if v < -0.75: return -2\n",
    "    elif v < -0.25: return -1\n",
    "    elif v < 0.25: return 0\n",
    "    elif v < 0.75: return 1\n",
    "    else: return 2\n",
    "\n",
    "test_df['5way_pred'] = np.vectorize(float_to_catetory)(clf.predict(sentiment_feature.transform(test_df['cleaned'])))"
   ]
  },
  {
   "cell_type": "code",
   "execution_count": 17,
   "metadata": {},
   "outputs": [
    {
     "data": {
      "text/html": [
       "<table border=\"1\" class=\"dataframe\">\n",
       "  <thead>\n",
       "    <tr style=\"text-align: right;\">\n",
       "      <th></th>\n",
       "      <th>TweetText</th>\n",
       "      <th>5way_pred</th>\n",
       "    </tr>\n",
       "  </thead>\n",
       "  <tbody>\n",
       "    <tr>\n",
       "      <th>0</th>\n",
       "      <td>RT @JamaicanIdler: Lmao I think @apple is onto something magical! I am DYING!!! haha. Siri suggested where to find whores and where to h ...</td>\n",
       "      <td>1</td>\n",
       "    </tr>\n",
       "    <tr>\n",
       "      <th>1</th>\n",
       "      <td>Bravo, @Apple! http://t.co/BgoTzj7K</td>\n",
       "      <td>0</td>\n",
       "    </tr>\n",
       "    <tr>\n",
       "      <th>2</th>\n",
       "      <td>Day305, I'm thankful for the great customer service received today from @Apple via phone CS, new phone on the way #365daysofgratefulness</td>\n",
       "      <td>0</td>\n",
       "    </tr>\n",
       "    <tr>\n",
       "      <th>3</th>\n",
       "      <td>i love this. so much. thank you @apple.  http://t.co/Ui8lOEzX</td>\n",
       "      <td>1</td>\n",
       "    </tr>\n",
       "    <tr>\n",
       "      <th>4</th>\n",
       "      <td>I &amp;lt;3 @apple http://t.co/ondXWpEr</td>\n",
       "      <td>1</td>\n",
       "    </tr>\n",
       "    <tr>\n",
       "      <th>5</th>\n",
       "      <td>dammit, listening to siri is making me want to upgrade. well played @apple.</td>\n",
       "      <td>-1</td>\n",
       "    </tr>\n",
       "    <tr>\n",
       "      <th>6</th>\n",
       "      <td>. @apple &amp; @AT&amp;T u cannot tell me there isn't at least 1 64GB iPhone 4S in LA or Vegas!! Give me a fucking break!!!!</td>\n",
       "      <td>-1</td>\n",
       "    </tr>\n",
       "    <tr>\n",
       "      <th>7</th>\n",
       "      <td>I am so done with @Att and @apple 's profitering and lack of customer service, so fucking down with both!!!</td>\n",
       "      <td>-1</td>\n",
       "    </tr>\n",
       "    <tr>\n",
       "      <th>8</th>\n",
       "      <td>@rogerweir no but I have the option of a  replacement iPhone 4s ? Not sure if I want one after having 2 duff iPhones. @O2 @iphone4s @apple</td>\n",
       "      <td>0</td>\n",
       "    </tr>\n",
       "    <tr>\n",
       "      <th>9</th>\n",
       "      <td>removing all @apple shit.</td>\n",
       "      <td>-1</td>\n",
       "    </tr>\n",
       "    <tr>\n",
       "      <th>10</th>\n",
       "      <td>Would it kill @apple to put a braille type bump on their earbuds so we know which bud is R and L in the dark.</td>\n",
       "      <td>0</td>\n",
       "    </tr>\n",
       "    <tr>\n",
       "      <th>11</th>\n",
       "      <td>RT @phxguy88: Oh, just fuck you, @apple. Already?? ---&amp;gt;  iPhone 5 on schedule for summer launch? http://t.co/Ofh9PTaG via @BGR</td>\n",
       "      <td>-1</td>\n",
       "    </tr>\n",
       "    <tr>\n",
       "      <th>12</th>\n",
       "      <td>@Apple, on the #iPad with #iOS5, why has the Messages Icon been included when it can't be used?</td>\n",
       "      <td>0</td>\n",
       "    </tr>\n",
       "    <tr>\n",
       "      <th>13</th>\n",
       "      <td>One would think the voice recognition on the @apple tech support line would work a little better.</td>\n",
       "      <td>0</td>\n",
       "    </tr>\n",
       "    <tr>\n",
       "      <th>14</th>\n",
       "      <td>@AsimRang @apple @umber the desktop app is wack though</td>\n",
       "      <td>0</td>\n",
       "    </tr>\n",
       "    <tr>\n",
       "      <th>15</th>\n",
       "      <td>RT @CircusTK: I'm wit chu!! “@ShayDiddy: Officially boycotting @ups!!! Calling @apple to curse them out next for using them wasting my t ...</td>\n",
       "      <td>-1</td>\n",
       "    </tr>\n",
       "    <tr>\n",
       "      <th>16</th>\n",
       "      <td>@Joelplane @apple I hear you! I've had trouble with my 3 &amp; now 4. I've even turned down brightness.</td>\n",
       "      <td>-2</td>\n",
       "    </tr>\n",
       "    <tr>\n",
       "      <th>17</th>\n",
       "      <td>i update to ios 5 and lose everything on my phone and it wont let me sign into my itunes account... thanks @Apple</td>\n",
       "      <td>-1</td>\n",
       "    </tr>\n",
       "    <tr>\n",
       "      <th>18</th>\n",
       "      <td>Seemingly endless loop of calls to @apple, @ups, @verizonwireless to investigate my missing #iphone4s. #crankywithnophone</td>\n",
       "      <td>0</td>\n",
       "    </tr>\n",
       "    <tr>\n",
       "      <th>19</th>\n",
       "      <td>@apple battery life suck on iOS 5</td>\n",
       "      <td>-2</td>\n",
       "    </tr>\n",
       "    <tr>\n",
       "      <th>20</th>\n",
       "      <td>Dear @apple: Why did all my PDFs and ePub files disappear from ibooks in my iPhone post ios5 upgrade? This hurts.</td>\n",
       "      <td>0</td>\n",
       "    </tr>\n",
       "    <tr>\n",
       "      <th>21</th>\n",
       "      <td>RT @CBM: Lies @apple. the battery on this new iPhone4S is definitely not any better.</td>\n",
       "      <td>-2</td>\n",
       "    </tr>\n",
       "    <tr>\n",
       "      <th>22</th>\n",
       "      <td>should be studying/ doing work but no I'm hold with @apple HURRY THE FUCK UP!</td>\n",
       "      <td>-1</td>\n",
       "    </tr>\n",
       "    <tr>\n",
       "      <th>23</th>\n",
       "      <td>@betweensundays Ah! Yeah...should be an option...hopefully @apple figures that out. Thx</td>\n",
       "      <td>0</td>\n",
       "    </tr>\n",
       "    <tr>\n",
       "      <th>24</th>\n",
       "      <td>I'm suspecting @Apple timed the health-decline of my iPhone 4 perfectly with the iPhone 4s release... My battery is seriously ailing.</td>\n",
       "      <td>-2</td>\n",
       "    </tr>\n",
       "    <tr>\n",
       "      <th>25</th>\n",
       "      <td>on hold for another half hour. phone is ringing but no one is picking up.@apple you stink.</td>\n",
       "      <td>-2</td>\n",
       "    </tr>\n",
       "    <tr>\n",
       "      <th>26</th>\n",
       "      <td>Apparently @Apple genius training doesn't extend to clocks &amp; service. They're half an hour late for my appointment and couldn't let me know?</td>\n",
       "      <td>-1</td>\n",
       "    </tr>\n",
       "    <tr>\n",
       "      <th>27</th>\n",
       "      <td>screw you @apple iOS 5. I can't download this crap, and I'm tired of trying. Get this problem figured out about my connection timing out</td>\n",
       "      <td>0</td>\n",
       "    </tr>\n",
       "    <tr>\n",
       "      <th>28</th>\n",
       "      <td>@nansen Man, that sux! @apple io5 upgrade a total #fail for you!</td>\n",
       "      <td>0</td>\n",
       "    </tr>\n",
       "    <tr>\n",
       "      <th>29</th>\n",
       "      <td>Dear @Apple, how convenient/handy/thoughtful/smart that after iPhone #ios5 update you're apps won't work anymore! (none!!!) :( #gr%\\mbl^.%)</td>\n",
       "      <td>-1</td>\n",
       "    </tr>\n",
       "  </tbody>\n",
       "</table>"
      ],
      "text/plain": [
       "<IPython.core.display.HTML object>"
      ]
     },
     "metadata": {},
     "output_type": "display_data"
    }
   ],
   "source": [
    "from IPython.display import display, HTML\n",
    "display(HTML(test_df[['TweetText', '5way_pred']][:30].to_html()))"
   ]
  },
  {
   "cell_type": "markdown",
   "metadata": {},
   "source": [
    "# Demo"
   ]
  },
  {
   "cell_type": "code",
   "execution_count": 18,
   "metadata": {},
   "outputs": [],
   "source": [
    "def guess_org(msg, time):\n",
    "    msg = clean(msg)\n",
    "    return clf_org.predict(ngrams_vectorizer.transform([msg]))[0]\n",
    "\n",
    "def guess_sentiment(msg, time):\n",
    "    msg = clean(msg)\n",
    "    d = pd.DataFrame([dict(weekday=time.split()[0], month=time.split()[1])])\n",
    "    \n",
    "    return clf_sentiment_with_time.predict(\n",
    "        hstack((\n",
    "            sentiment_feature.transform([msg]),\n",
    "            time_feature.transform(d)\n",
    "        ))\n",
    "    )[0]\n"
   ]
  },
  {
   "cell_type": "code",
   "execution_count": 21,
   "metadata": {},
   "outputs": [
    {
     "name": "stdout",
     "output_type": "stream",
     "text": [
      "google\n",
      "positive\n"
     ]
    },
    {
     "name": "stderr",
     "output_type": "stream",
     "text": [
      "/home/gopavel/.cache/pypoetry/virtualenvs/social-media-computing-zp_zk-1p-py3.7/lib64/python3.7/site-packages/sklearn/compose/_column_transformer.py:440: FutureWarning: Given feature/column names or counts do not match the ones for the data given during fit. This will fail from v0.24.\n",
      "  FutureWarning)\n"
     ]
    }
   ],
   "source": [
    "msg = \"Google is very good\"\n",
    "time = \"Tue Oct 18 21:53:25 +0000 2011\"\n",
    "test_df['weekday'] = test_df['TweetDate'].apply(lambda s: s.split()[0])\n",
    "test_df['month'] = test_df['TweetDate'].apply(lambda s: s.split()[1])\n",
    "\n",
    "a = sentiment_feature.transform(test_df['cleaned'])\n",
    "b = time_feature.transform(test_df)\n",
    "\n",
    "print(guess_org(msg, time))\n",
    "print(guess_sentiment(msg, time))"
   ]
  },
  {
   "cell_type": "code",
   "execution_count": null,
   "metadata": {},
   "outputs": [],
   "source": []
  }
 ],
 "metadata": {
  "kernelspec": {
   "display_name": "Python 3",
   "language": "python",
   "name": "python3"
  },
  "language_info": {
   "codemirror_mode": {
    "name": "ipython",
    "version": 3
   },
   "file_extension": ".py",
   "mimetype": "text/x-python",
   "name": "python",
   "nbconvert_exporter": "python",
   "pygments_lexer": "ipython3",
   "version": "3.7.9"
  }
 },
 "nbformat": 4,
 "nbformat_minor": 4
}
