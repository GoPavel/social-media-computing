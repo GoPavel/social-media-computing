{
 "cells": [
  {
   "cell_type": "markdown",
   "metadata": {},
   "source": [
    "# Sentiment Analysis of Microblog Data Streams\n",
    "\n",
    "## Outline:\n",
    "\n",
    "- preprocessing\n",
    "    - [X] reduce whitespace\n",
    "    - [X] covnert to lower case\n",
    "    - [X] remove punctuation\n",
    "    - [X] remove stop word\n",
    "    - [X] remove number\n",
    "    - [X] expanding abbreviations (by normalization)\n",
    "    - [X] replace smiles\n",
    "    - [X] remove too small tweets\n",
    "    - [X] reduce repeated latter (looool $\\rightarrow$ lol)\n",
    "- classification\n",
    "    - [X] predict organization\n",
    "    - [X] predict 3-way sentiment\n",
    "    - [X] Try to use temporal data\n",
    "    - [X] 5-way sentiment prediction"
   ]
  },
  {
   "cell_type": "markdown",
   "metadata": {},
   "source": [
    "## Preprocessing"
   ]
  },
  {
   "cell_type": "code",
   "execution_count": null,
   "metadata": {},
   "outputs": [],
   "source": [
    "import pandas as pd\n",
    "import numpy as np\n",
    "\n",
    "pd.options.mode.chained_assignment = None\n",
    "\n",
    "df = pd.read_csv('data/Train.csv')"
   ]
  },
  {
   "cell_type": "code",
   "execution_count": null,
   "metadata": {},
   "outputs": [],
   "source": [
    "def load_vocab_norm(path: str):\n",
    "    m = {}\n",
    "    with open(path) as f:\n",
    "        for l in f:\n",
    "            a, b = l.split()\n",
    "            m[a] = b\n",
    "    return m\n",
    "vocabs_norm = [load_vocab_norm('emnlp_dict.txt')]"
   ]
  },
  {
   "cell_type": "code",
   "execution_count": null,
   "metadata": {},
   "outputs": [],
   "source": [
    "import typing\n",
    "import re\n",
    "import unicodedata\n",
    "\n",
    "from nltk.corpus import stopwords\n",
    "from langdetect import detect\n",
    "from langdetect.lang_detect_exception import LangDetectException\n",
    "\n",
    "from static_vocabularies import contraction_mapping, emoticons\n",
    "\n",
    "stopwords_vocs = {\n",
    "    'russian': stopwords.words('russian'),\n",
    "    'english': stopwords.words('english'),\n",
    "    'spanish': stopwords.words('spanish')\n",
    "}\n",
    "# add spain, italia\n",
    "all_stopwords = {w for words in stopwords_vocs.values()\n",
    "                   for w in words}\n",
    "\n",
    "# irrelevant_patterns\n",
    "regexes = {\n",
    "    'URL': r\"\"\"(?xi)\\b(?:(?:https?|ftp|file):\\/\\/|www\\.|ftp\\.|pic\\.|twitter\\.|facebook\\.)(?:\\([-A-Z0-9+&@#\\/%=~_|$?!:;,.]*\\)|[-A-Z0-9+&@#\\/%=~_|$?!:;,.])*(?:\\([-A-Z0-9+&@#\\/%=~_|$?!:,.]*\\)|[A-Z0-9+&@#\\/%=~_|$])\"\"\",\n",
    "    'EMOJI': u'([\\U0001F1E0-\\U0001F1FF])|([\\U0001F300-\\U0001F5FF])|([\\U0001F600-\\U0001F64F])|([\\U0001F680-\\U0001F6FF])|([\\U0001F700-\\U0001F77F])|([\\U0001F800-\\U0001F8FF])|([\\U0001F900-\\U0001F9FF])|([\\U0001FA00-\\U0001FA6F])|([\\U0001FA70-\\U0001FAFF])|([\\U00002702-\\U000027B0])|([\\U00002600-\\U000027BF])|([\\U0001f300-\\U0001f64F])|([\\U0001f680-\\U0001f6FF])',\n",
    "    'HASHTAG': r\"\\#\\b[\\w\\-\\_]+\\b\",\n",
    "    'EMAIL': r\"(?:^|(?<=[^\\w@.)]))(?:[\\w+-](?:\\.(?!\\.))?)*?[\\w+-]@(?:\\w-?)*?\\w+(?:\\.(?:[a-z]{2,})){1,3}(?:$|(?=\\b))\",\n",
    "    'MENTION': r\"@[A-Za-z0-9]+\",\n",
    "    'CASHTAG': r\"(?:[$\\u20ac\\u00a3\\u00a2]\\d+(?:[\\\\.,']\\d+)?(?:[MmKkBb](?:n|(?:il(?:lion)?))?)?)|(?:\\d+(?:[\\\\.,']\\\\d+)?[$\\u20ac\\u00a3\\u00a2])\",\n",
    "    'DATE': r\"(?:(?:(?:(?:(?<!:)\\b\\'?\\d{1,4},? ?)?\\b(?:[Jj]an(?:uary)?|[Ff]eb(?:ruary)?|[Mm]ar(?:ch)?|[Aa]pr(?:il)?|May|[Jj]un(?:e)?|[Jj]ul(?:y)?|[Aa]ug(?:ust)?|[Ss]ept?(?:ember)?|[Oo]ct(?:ober)?|[Nn]ov(?:ember)?|[Dd]ec(?:ember)?)\\b(?:(?:,? ?\\'?)?\\d{1,4}(?:st|nd|rd|n?th)?\\b(?:[,\\\\/]? ?\\'?\\d{2,4}[a-zA-Z]*)?(?: ?- ?\\d{2,4}[a-zA-Z]*)?(?!:\\d{1,4})\\b))|(?:(?:(?<!:)\\b\\\\'?\\d{1,4},? ?)\\b(?:[Jj]an(?:uary)?|[Ff]eb(?:ruary)?|[Mm]ar(?:ch)?|[Aa]pr(?:il)?|May|[Jj]un(?:e)?|[Jj]ul(?:y)?|[Aa]ug(?:ust)?|[Ss]ept?(?:ember)?|[Oo]ct(?:ober)?|[Nn]ov(?:ember)?|[Dd]ec(?:ember)?)\\b(?:(?:,? ?\\'?)?\\d{1,4}(?:st|nd|rd|n?th)?\\b(?:[,\\\\/]? ?\\'?\\d{2,4}[a-zA-Z]*)?(?: ?- ?\\d{2,4}[a-zA-Z]*)?(?!:\\d{1,4})\\b)?))|(?:\\b(?<!\\d\\\\.)(?:(?:(?:[0123]?[0-9][\\\\.\\\\-\\\\/])?[0123]?[0-9][\\\\.\\\\-\\\\/][12][0-9]{3})|(?:[0123]?[0-9][\\\\.\\\\-\\\\/][0123]?[0-9][\\\\.\\\\-\\\\/][12]?[0-9]{2,3}))(?!\\.\\d)\\b))\",\n",
    "    'TIME': r'(?:(?:\\d+)?\\\\.?\\d+(?:AM|PM|am|pm|a\\\\.m\\\\.|p\\\\.m\\\\.))|(?:(?:[0-2]?[0-9]|[2][0-3]):(?:[0-5][0-9])(?::(?:[0-5][0-9]))?(?: ?(?:AM|PM|am|pm|a\\\\.m\\\\.|p\\\\.m\\\\.))?)',\n",
    "    #'EMPHASIS': r\"(?:\\*\\b\\w+\\b\\*)\",\n",
    "    #'ELONG': r\"\\b[A-Za-z]*([a-zA-Z])\\1\\1[A-Za-z]*\\b\"\n",
    "    'NUMBERS': r\"[0-9]+\"\n",
    "}\n",
    "regexes = {k:re.compile(v) for k, v in regexes.items()}\n",
    "\n",
    "target_word = {'apple', 'microsoft', 'google', 'twitter'}\n",
    "\n",
    "def clean(msg: str) -> typing.List[str]:\n",
    "    msg = ' ' + msg\n",
    "    \n",
    "    # normalize unicode\n",
    "    msg = unicodedata.normalize('NFKD', msg)\n",
    "    \n",
    "    msg = regexes['URL'].sub(\" \", msg)\n",
    "#     try:\n",
    "#         lang = detect(msg)\n",
    "#     except LangDetectException:\n",
    "#         lang = 'en'\n",
    "#     if lang == 'en':\n",
    "#         msg = msg.encode('ascii', errors='ignore')\\\n",
    "#                  .decode('utf8', errors='ignore')\n",
    "\n",
    "    # expand contraction\n",
    "    for k, v in contraction_mapping.items():\n",
    "        msg = msg.replace(k, v)\n",
    "    \n",
    "    # replace emoticons\n",
    "    for k, v in emoticons.items():\n",
    "        if k in msg:\n",
    "            msg = msg.replace(k, v)\n",
    "    \n",
    "    # unify latter case\n",
    "    msg = msg.lower()\n",
    "    \n",
    "    # save target word in hashtag or mention\n",
    "    for w in target_word:\n",
    "        msg = re.sub(f'(#|@){w}\\\\b', w, msg)\n",
    "    \n",
    "    # remove irrelevant\n",
    "    for pn in ['EMOJI', 'HASHTAG', 'MENTION', 'CASHTAG', 'DATE', 'TIME', 'NUMBERS']:\n",
    "        msg = regexes[pn].sub(\" \", msg)\n",
    "    \n",
    "    # reduce repeated latter\n",
    "    msg = re.sub(r\"([a-z])\\1(\\1)+\", r'\\1', msg)\n",
    "    \n",
    "    # remove punctuation\n",
    "    msg = re.sub(r\"[\\[\\]\\{\\}/\\\\\\(\\)\\\"'`\\-_:;.,!?*”“»@%><+]+\", \" \", msg)\n",
    "    \n",
    "    # split to word\n",
    "    msg = msg.split()\n",
    "    \n",
    "    # language normalization\n",
    "    for norm in vocabs_norm:\n",
    "        msg = map(lambda w: norm.get(w, w), msg)\n",
    "    msg = list(msg)\n",
    "    \n",
    "    # remove stopwords\n",
    "    msg = [w for w in msg if w not in all_stopwords]\n",
    "    \n",
    "    # remove short words\n",
    "#     msg = [w for w in msg if len(w) > 2]\n",
    "    \n",
    "    msg = ' '.join(msg)\n",
    "    return msg"
   ]
  },
  {
   "cell_type": "markdown",
   "metadata": {},
   "source": [
    "## Learning for organization"
   ]
  },
  {
   "cell_type": "code",
   "execution_count": null,
   "metadata": {},
   "outputs": [],
   "source": [
    "from sklearn.feature_extraction import text\n",
    "from sklearn.pipeline import FeatureUnion,Pipeline\n",
    "from sklearn.compose import ColumnTransformer"
   ]
  },
  {
   "cell_type": "code",
   "execution_count": null,
   "metadata": {},
   "outputs": [],
   "source": [
    "#CountVectorizer = text.CountVectorizer()\n",
    "#TfidfVectorizer = text.TfidfVectorizer()\n",
    "#HashVectorizer = text.HashingVectorizer()"
   ]
  },
  {
   "cell_type": "code",
   "execution_count": null,
   "metadata": {},
   "outputs": [],
   "source": [
    "word_vectorizer = text.TfidfVectorizer(\n",
    "    analyzer='word', ngram_range=(1, 4),\n",
    "    min_df=2, use_idf=True, sublinear_tf=True)\n",
    "char_vectorizer = text.TfidfVectorizer(\n",
    "          analyzer='char', ngram_range=(3, 5),\n",
    "          min_df=2, use_idf=True, sublinear_tf=True)\n",
    "ngrams_vectorizer = Pipeline([\n",
    "    ('feats', \n",
    "     FeatureUnion([('word_ngram', word_vectorizer),\n",
    "                    ('char_ngram', char_vectorizer),\n",
    "                  ])),])"
   ]
  },
  {
   "cell_type": "code",
   "execution_count": null,
   "metadata": {},
   "outputs": [],
   "source": [
    "df['cleaned'] = df['TweetText'].apply(clean)\n",
    "df_filtered = df.loc[df['cleaned'].apply(len) > 0]\n",
    "# for l in df_filtered['cleaned'][200:300]:\n",
    "#     print(l)"
   ]
  },
  {
   "cell_type": "code",
   "execution_count": null,
   "metadata": {},
   "outputs": [],
   "source": [
    "from sklearn.decomposition import TruncatedSVD\n",
    "from sklearn.preprocessing import LabelEncoder, FunctionTransformer, Normalizer, OneHotEncoder\n",
    "from sklearn.svm import LinearSVC, SVC\n",
    "from sklearn.model_selection import train_test_split \n",
    "from sklearn.metrics import classification_report\n",
    "\n",
    "\n",
    "# encoder=LabelEncoder()\n",
    "# label=encoder.fit_transform(df['Topic'])"
   ]
  },
  {
   "cell_type": "code",
   "execution_count": null,
   "metadata": {},
   "outputs": [],
   "source": [
    "feature=ngrams_vectorizer.fit_transform(df_filtered['cleaned'].values)\n",
    "\n",
    "clf_org=LinearSVC()\n",
    "# x_train, x_test, y_train, y_test = train_test_split(feature, df_filtered['Topic'], test_size=0.2, stratify=df_filtered['Topic'])\n",
    "clf_org.fit(feature, df_filtered['Topic'])"
   ]
  },
  {
   "cell_type": "markdown",
   "metadata": {},
   "source": [
    "### Test"
   ]
  },
  {
   "cell_type": "code",
   "execution_count": null,
   "metadata": {},
   "outputs": [],
   "source": [
    "test_df = pd.read_csv('data/Test.csv')\n",
    "test_df['cleaned'] = test_df['TweetText'].apply(clean)\n",
    "test_feature = ngrams_vectorizer.transform(test_df['cleaned'])\n",
    "print(classification_report(test_df['Topic'], clf_org.predict(test_feature)))"
   ]
  },
  {
   "cell_type": "markdown",
   "metadata": {},
   "source": [
    "##  Learning for 3-way sentiment"
   ]
  },
  {
   "cell_type": "code",
   "execution_count": null,
   "metadata": {},
   "outputs": [],
   "source": [
    "org_encoder = LabelEncoder()\n",
    "org_encoder.fit(df['Topic'])\n",
    "\n",
    "sentiment_feature = FeatureUnion(\n",
    "    [('text', ngrams_vectorizer), \n",
    "     ('org', Pipeline([\n",
    "        ('vect', ngrams_vectorizer),\n",
    "        ('clf', FunctionTransformer(clf_org.predict)),\n",
    "        ('encode', org_encoder),\n",
    "        ('tranp', FunctionTransformer(lambda r: np.asmatrix(r).transpose())),\n",
    "        # ('norm', Normalizer())\n",
    "      ]))\n",
    "    ])\n",
    "\n",
    "clf_sentiment=LinearSVC()\n",
    "clf_sentiment.fit(sentiment_feature.transform(df_filtered['cleaned']), df_filtered['Sentiment'])"
   ]
  },
  {
   "cell_type": "markdown",
   "metadata": {},
   "source": [
    "### Test"
   ]
  },
  {
   "cell_type": "code",
   "execution_count": null,
   "metadata": {},
   "outputs": [],
   "source": [
    "test_sentiment_feature = sentiment_feature.transform(test_df['cleaned'])\n",
    "print(classification_report(test_df['Sentiment'], clf_sentiment.predict(test_sentiment_feature)))"
   ]
  },
  {
   "cell_type": "markdown",
   "metadata": {},
   "source": [
    "### Add temporal feature"
   ]
  },
  {
   "cell_type": "code",
   "execution_count": null,
   "metadata": {},
   "outputs": [],
   "source": [
    "from scipy.sparse import hstack\n",
    "\n",
    "df_filtered['weekday'] = df_filtered['TweetDate'].apply(lambda s: s.split()[0])\n",
    "df_filtered['month'] = df_filtered['TweetDate'].apply(lambda s: s.split()[1])\n",
    "\n",
    "org_encoder = LabelEncoder()\n",
    "org_encoder.fit(df['Topic'])\n",
    "\n",
    "time_feature = ColumnTransformer([\n",
    "    ('weekday', OneHotEncoder(), ['weekday']),\n",
    "    ('month', OneHotEncoder(), ['month']),\n",
    "])\n",
    "time_feature.fit(df_filtered[['weekday', 'month']])\n",
    "clf_sentiment_with_time=LinearSVC()\n",
    "clf_sentiment_with_time.fit(hstack((sentiment_feature.transform(df_filtered['cleaned']), \n",
    "                                    time_feature.transform(df_filtered))), df_filtered['Sentiment'])"
   ]
  },
  {
   "cell_type": "code",
   "execution_count": null,
   "metadata": {},
   "outputs": [],
   "source": [
    "test_df['weekday'] = test_df['TweetDate'].apply(lambda s: s.split()[0])\n",
    "test_df['month'] = test_df['TweetDate'].apply(lambda s: s.split()[1])\n",
    "\n",
    "a = sentiment_feature.transform(test_df['cleaned'])\n",
    "b = time_feature.transform(test_df)\n",
    "print(classification_report(test_df['Sentiment'], clf_sentiment_with_time.predict(hstack((a, b)))))"
   ]
  },
  {
   "cell_type": "markdown",
   "metadata": {},
   "source": [
    "## 5-way sentiment"
   ]
  },
  {
   "cell_type": "code",
   "execution_count": null,
   "metadata": {},
   "outputs": [],
   "source": [
    "from sklearn.linear_model import RidgeClassifier, Ridge\n",
    "from sklearn.metrics import mean_squared_error\n",
    "\n",
    "clf_sentiment5=RidgeClassifier()\n",
    "clf_sentiment5.fit(sentiment_feature.transform(df_filtered['cleaned']), df_filtered['Sentiment'])\n",
    "\n",
    "print(classification_report(test_df['Sentiment'], clf_sentiment5.predict(test_sentiment_feature)))\n",
    "\n",
    "d = {'positive': +1, 'neutral': 0, 'negative': -1, 'irrelevant': 0}\n",
    "df_filtered['sent_score'] = df_filtered['Sentiment'].apply(lambda s: d[s])\n",
    "clf = Ridge()\n",
    "clf.fit(sentiment_feature.transform(df_filtered['cleaned']), df_filtered['sent_score'])\n",
    "\n",
    "test_df['sent_score'] = test_df['Sentiment'].apply(lambda s: d[s])\n",
    "print(mean_squared_error(test_df['sent_score'], clf.predict(test_sentiment_feature)))"
   ]
  },
  {
   "cell_type": "code",
   "execution_count": null,
   "metadata": {},
   "outputs": [],
   "source": [
    "def float_to_catetory(v: float) -> int:\n",
    "    if v < -0.75: return -2\n",
    "    elif v < -0.25: return -1\n",
    "    elif v < 0.25: return 0\n",
    "    elif v < 0.75: return 1\n",
    "    else: return 2\n",
    "\n",
    "test_df['5way_pred'] = np.vectorize(float_to_catetory)(clf.predict(sentiment_feature.transform(test_df['cleaned'])))"
   ]
  },
  {
   "cell_type": "code",
   "execution_count": null,
   "metadata": {},
   "outputs": [],
   "source": [
    "from IPython.display import display, HTML\n",
    "display(HTML(test_df[['TweetText', '5way_pred']][:30].to_html()))"
   ]
  },
  {
   "cell_type": "markdown",
   "metadata": {},
   "source": [
    "# Demo"
   ]
  },
  {
   "cell_type": "code",
   "execution_count": null,
   "metadata": {},
   "outputs": [],
   "source": [
    "def guess_org(msg, time):\n",
    "    msg = clean(msg)\n",
    "    return clf_org.predict(ngrams_vectorizer.transform([msg]))[0]\n",
    "\n",
    "def guess_sentiment(msg, time):\n",
    "    msg = clean(msg)\n",
    "    d = pd.DataFrame([dict(weekday=time.split()[0], month=time.split()[1])])\n",
    "    \n",
    "    return clf_sentiment_with_time.predict(\n",
    "        hstack((\n",
    "            sentiment_feature.transform([msg]),\n",
    "            time_feature.transform(d)\n",
    "        ))\n",
    "    )[0]\n"
   ]
  },
  {
   "cell_type": "code",
   "execution_count": null,
   "metadata": {},
   "outputs": [],
   "source": [
    "msg = \"I is better than google\"\n",
    "time = \"Tue Oct 18 21:53:25 +0000 2011\"\n",
    "test_df['weekday'] = test_df['TweetDate'].apply(lambda s: s.split()[0])\n",
    "test_df['month'] = test_df['TweetDate'].apply(lambda s: s.split()[1])\n",
    "\n",
    "a = sentiment_feature.transform(test_df['cleaned'])\n",
    "b = time_feature.transform(test_df)\n",
    "\n",
    "print(guess_org(msg, time))\n",
    "print(guess_sentiment(msg, time))"
   ]
  }
 ],
 "metadata": {
  "kernelspec": {
   "display_name": "Python 3",
   "language": "python",
   "name": "python3"
  },
  "language_info": {
   "codemirror_mode": {
    "name": "ipython",
    "version": 3
   },
   "file_extension": ".py",
   "mimetype": "text/x-python",
   "name": "python",
   "nbconvert_exporter": "python",
   "pygments_lexer": "ipython3",
   "version": "3.7.9"
  }
 },
 "nbformat": 4,
 "nbformat_minor": 4
}
