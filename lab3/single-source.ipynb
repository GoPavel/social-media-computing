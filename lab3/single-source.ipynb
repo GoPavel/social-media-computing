{
 "cells": [
  {
   "cell_type": "code",
   "execution_count": 4,
   "metadata": {},
   "outputs": [
    {
     "data": {
      "text/html": [
       "<style>.container { width:80% !important; }</style>"
      ],
      "text/plain": [
       "<IPython.core.display.HTML object>"
      ]
     },
     "metadata": {},
     "output_type": "display_data"
    },
    {
     "data": {
      "text/plain": [
       "'LDA50Features'"
      ]
     },
     "metadata": {},
     "output_type": "display_data"
    },
    {
     "data": {
      "text/plain": [
       "'accur: 0.5518651432444536, f1score: 0.5161125171101468'"
      ]
     },
     "metadata": {},
     "output_type": "display_data"
    },
    {
     "data": {
      "text/plain": [
       "'LIWCFeatures'"
      ]
     },
     "metadata": {},
     "output_type": "display_data"
    },
    {
     "data": {
      "text/plain": [
       "'accur: 0.5634185013495357, f1score: 0.525913581427609'"
      ]
     },
     "metadata": {},
     "output_type": "display_data"
    },
    {
     "data": {
      "text/plain": [
       "'ManuallyDefinedTextFeatures'"
      ]
     },
     "metadata": {},
     "output_type": "display_data"
    },
    {
     "data": {
      "text/plain": [
       "'accur: 0.550393967635347, f1score: 0.5186807169161812'"
      ]
     },
     "metadata": {},
     "output_type": "display_data"
    }
   ],
   "source": [
    "import pandas as pd\n",
    "import numpy as np\n",
    "\n",
    "from IPython.core.display import display, HTML\n",
    "display(HTML(\"<style>.container { width:80% !important; }</style>\"))\n",
    "\n",
    "from IPython.display import display\n",
    "show = display\n",
    "\n",
    "from sklearn.impute import SimpleImputer \n",
    "from sklearn.preprocessing import OneHotEncoder\n",
    "\n",
    "from sklearn.model_selection import KFold\n",
    "import sklearn.metrics as skm\n",
    "\n",
    "lda, liwc, mtf = pd.DataFrame(), pd.DataFrame(), pd.DataFrame()\n",
    "train = pd.DataFrame()\n",
    "\n",
    "# TODO add city as feature\n",
    "for city in [\"NewYork\", \"London\", \"Singapore\"]:\n",
    "    lda = pd.concat([lda, pd.read_csv(f\"data/Features/features{city}/Twitter/LDA50Features.csv\", encoding=\"ISO-8859-15\")], axis=0, ignore_index=True)\n",
    "    liwc = pd.concat([liwc, pd.read_csv(f\"data/Features/features{city}/Twitter/LIWCFeatures.csv\", encoding=\"ISO-8859-15\")], axis=0, ignore_index=True)\n",
    "    mtf = pd.concat([mtf, pd.read_csv(f\"data/Features/features{city}/Twitter/manuallyDefinedTextFeatures.csv\", encoding=\"ISO-8859-15\")], axis=0, ignore_index=True)\n",
    "\n",
    "    train = pd.concat([train, pd.read_csv(\"data/NYTrain.csv\")], axis=0, ignore_index=True)\n",
    "\n",
    "lda = lda.drop_duplicates(subset=[\"_id\"], ignore_index=True)\n",
    "liwc = liwc.drop_duplicates(subset=[\"_id\"], ignore_index=True)\n",
    "mtf = mtf.drop_duplicates(subset=[\"_id\"], ignore_index=True)\n",
    "\n",
    "# Gender prediction\n",
    "\n",
    "from sklearn.ensemble import RandomForestClassifier\n",
    "import joblib\n",
    "\n",
    "with joblib.parallel_backend(\"multiprocessing\"): \n",
    "\n",
    "    for data, feature_name in zip([lda, liwc, mtf], [\"LDA50Features\", \"LIWCFeatures\", \"ManuallyDefinedTextFeatures\"]):\n",
    "        show(feature_name)\n",
    "        \n",
    "        df = pd.concat([data, train[\"gender\"]], axis=1, join='inner')\n",
    "\n",
    "        df = df.dropna(subset=[\"gender\"])\n",
    "\n",
    "        Y = df[\"gender\"].values\n",
    "\n",
    "        X = df.drop([\"gender\", \"_id\"], axis=1).values\n",
    "\n",
    "\n",
    "#         for N in [3, 5, 10, 20, 30, 50, 100, 300, 500]:\n",
    "#             for D in [3, 5, 10, 20, 30, 50, 100, 300, 500]:\n",
    "#                 show(f\"N={N}, D={D}\")\n",
    "        fscore, accuracy = [], []\n",
    "        fold10 = KFold(n_splits=10, shuffle=True, random_state=42)\n",
    "        for train_ix, test_ix in fold10.split(X, Y):\n",
    "            clf = RandomForestClassifier(n_estimators=30, max_depth=300, min_samples_split=2, random_state=42)\n",
    "            clf.fit(X[train_ix], Y[train_ix])\n",
    "            y_true, y_pred = Y[test_ix], clf.predict(X[test_ix])\n",
    "    #         show(y_true)\n",
    "    #         show(y_pred)\n",
    "            accuracy.append(skm.accuracy_score(y_true, y_pred))\n",
    "            fscore.append(skm.f1_score(y_true, y_pred, average=\"weighted\"))\n",
    "\n",
    "        accuracy = np.array(accuracy).mean(axis=0)\n",
    "        fscore = np.array(fscore).mean(axis=0)\n",
    "        show(f\"accur: {accuracy}, f1score: {fscore}\")\n",
    "\n",
    "\n"
   ]
  }
 ],
 "metadata": {
  "kernelspec": {
   "display_name": "Python 3",
   "language": "python",
   "name": "python3"
  },
  "language_info": {
   "codemirror_mode": {
    "name": "ipython",
    "version": 3
   },
   "file_extension": ".py",
   "mimetype": "text/x-python",
   "name": "python",
   "nbconvert_exporter": "python",
   "pygments_lexer": "ipython3",
   "version": "3.7.9"
  }
 },
 "nbformat": 4,
 "nbformat_minor": 4
}
